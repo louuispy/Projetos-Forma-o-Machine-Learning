{
 "cells": [
  {
   "cell_type": "markdown",
   "id": "4d3f4e56-37e5-40f5-9883-19bc8d3c7d08",
   "metadata": {},
   "source": [
    "# `Alura`\n",
    "## `Formação Machine Learning`\n",
    "## `Curso 02 - Machine Learning: Validação de Modelos`\n",
    "---"
   ]
  },
  {
   "cell_type": "code",
   "execution_count": 1,
   "id": "aec939a1-113e-4fbe-b926-47091ed23f8a",
   "metadata": {},
   "outputs": [
    {
     "data": {
      "text/html": [
       "<div>\n",
       "<style scoped>\n",
       "    .dataframe tbody tr th:only-of-type {\n",
       "        vertical-align: middle;\n",
       "    }\n",
       "\n",
       "    .dataframe tbody tr th {\n",
       "        vertical-align: top;\n",
       "    }\n",
       "\n",
       "    .dataframe thead th {\n",
       "        text-align: right;\n",
       "    }\n",
       "</style>\n",
       "<table border=\"1\" class=\"dataframe\">\n",
       "  <thead>\n",
       "    <tr style=\"text-align: right;\">\n",
       "      <th></th>\n",
       "      <th>preco</th>\n",
       "      <th>vendido</th>\n",
       "      <th>idade_do_modelo</th>\n",
       "      <th>km_por_ano</th>\n",
       "    </tr>\n",
       "  </thead>\n",
       "  <tbody>\n",
       "    <tr>\n",
       "      <th>0</th>\n",
       "      <td>30941.02</td>\n",
       "      <td>1</td>\n",
       "      <td>18</td>\n",
       "      <td>35085.22134</td>\n",
       "    </tr>\n",
       "    <tr>\n",
       "      <th>1</th>\n",
       "      <td>40557.96</td>\n",
       "      <td>1</td>\n",
       "      <td>20</td>\n",
       "      <td>12622.05362</td>\n",
       "    </tr>\n",
       "    <tr>\n",
       "      <th>2</th>\n",
       "      <td>89627.50</td>\n",
       "      <td>0</td>\n",
       "      <td>12</td>\n",
       "      <td>11440.79806</td>\n",
       "    </tr>\n",
       "    <tr>\n",
       "      <th>3</th>\n",
       "      <td>95276.14</td>\n",
       "      <td>0</td>\n",
       "      <td>3</td>\n",
       "      <td>43167.32682</td>\n",
       "    </tr>\n",
       "    <tr>\n",
       "      <th>4</th>\n",
       "      <td>117384.68</td>\n",
       "      <td>1</td>\n",
       "      <td>4</td>\n",
       "      <td>12770.11290</td>\n",
       "    </tr>\n",
       "  </tbody>\n",
       "</table>\n",
       "</div>"
      ],
      "text/plain": [
       "       preco  vendido  idade_do_modelo   km_por_ano\n",
       "0   30941.02        1               18  35085.22134\n",
       "1   40557.96        1               20  12622.05362\n",
       "2   89627.50        0               12  11440.79806\n",
       "3   95276.14        0                3  43167.32682\n",
       "4  117384.68        1                4  12770.11290"
      ]
     },
     "execution_count": 1,
     "metadata": {},
     "output_type": "execute_result"
    }
   ],
   "source": [
    "import pandas as pd \n",
    "\n",
    "uri = \"https://gist.githubusercontent.com/guilhermesilveira/e99a526b2e7ccc6c3b70f53db43a87d2/raw/1605fc74aa778066bf2e6695e24d53cf65f2f447/machine-learning-carros-simulacao.csv\"\n",
    "\n",
    "dados = pd.read_csv(uri).drop(columns=[\"Unnamed: 0\"], axis=1)\n",
    "dados.head()"
   ]
  },
  {
   "cell_type": "code",
   "execution_count": 2,
   "id": "6b528b69-220f-48b8-a1bc-18c650d5f891",
   "metadata": {},
   "outputs": [
    {
     "name": "stdout",
     "output_type": "stream",
     "text": [
      "Treinaremos com 7500 e testaremos com 2500\n"
     ]
    }
   ],
   "source": [
    "import numpy as np \n",
    "from sklearn.model_selection import train_test_split\n",
    "from sklearn.svm import LinearSVC\n",
    "from sklearn.metrics import accuracy_score\n",
    "\n",
    "X = dados[[\"preco\", \"idade_do_modelo\", \"km_por_ano\"]]\n",
    "y = dados[\"vendido\"]\n",
    "\n",
    "SEED = 158020\n",
    "np.random.seed(SEED)\n",
    "treino_X, teste_X, treino_y, teste_y = train_test_split(X, y, test_size=0.25, stratify=y)\n",
    "\n",
    "print(f'Treinaremos com {len(treino_X)} e testaremos com {len(teste_X)}')"
   ]
  },
  {
   "cell_type": "code",
   "execution_count": 3,
   "id": "7581d686-e3f9-4593-87ec-2462217ca850",
   "metadata": {},
   "outputs": [
    {
     "name": "stdout",
     "output_type": "stream",
     "text": [
      "Acurácia do Dummy Stratified: 50.96%\n"
     ]
    }
   ],
   "source": [
    "from sklearn.dummy import DummyClassifier\n",
    "\n",
    "dummy_stratified = DummyClassifier(strategy=\"stratified\")\n",
    "dummy_stratified.fit(treino_X, treino_y)\n",
    "acuracia = dummy_stratified.score(teste_X, teste_y) * 100\n",
    "\n",
    "print(f'Acurácia do Dummy Stratified: {acuracia:.2f}%')"
   ]
  },
  {
   "cell_type": "code",
   "execution_count": 4,
   "id": "42c662ea-0a29-4394-8b2f-a05b4d4fc7da",
   "metadata": {},
   "outputs": [
    {
     "name": "stdout",
     "output_type": "stream",
     "text": [
      "Acurácia do Decision Tree: 75.52%\n"
     ]
    }
   ],
   "source": [
    "from sklearn.tree import DecisionTreeClassifier\n",
    "\n",
    "SEED = 158020\n",
    "np.random.seed(SEED)\n",
    "modelo = DecisionTreeClassifier(max_depth=5)\n",
    "modelo.fit(treino_X, treino_y)\n",
    "previsoes = modelo.predict(teste_X)\n",
    "\n",
    "acuracia = accuracy_score(previsoes, teste_y) * 100\n",
    "\n",
    "print(f'Acurácia do Decision Tree: {acuracia:.2f}%')"
   ]
  },
  {
   "cell_type": "code",
   "execution_count": 5,
   "id": "8ed84204-e507-491a-80fc-35c1d0b5cbaf",
   "metadata": {},
   "outputs": [
    {
     "name": "stdout",
     "output_type": "stream",
     "text": [
      "Acurácia do Decision Tree: 79.32%\n"
     ]
    }
   ],
   "source": [
    "from sklearn.tree import DecisionTreeClassifier\n",
    "\n",
    "SEED = 5\n",
    "np.random.seed(SEED)\n",
    "treino_X, teste_X, treino_y, teste_y = train_test_split(X, y, test_size=0.25, stratify=y)\n",
    "modelo = DecisionTreeClassifier(max_depth=5)\n",
    "modelo.fit(treino_X, treino_y)\n",
    "previsoes = modelo.predict(teste_X)\n",
    "\n",
    "acuracia = accuracy_score(previsoes, teste_y) * 100\n",
    "\n",
    "print(f'Acurácia do Decision Tree: {acuracia:.2f}%')"
   ]
  },
  {
   "cell_type": "markdown",
   "id": "fb827c81-5e7b-400b-b614-77501036e8fe",
   "metadata": {
    "jp-MarkdownHeadingCollapsed": true
   },
   "source": [
    "## Verificação de intervalo de acurácia com `K-Folds` "
   ]
  },
  {
   "cell_type": "code",
   "execution_count": 6,
   "id": "b9a2c695-2c3b-4e51-9640-1c1b30d038f5",
   "metadata": {},
   "outputs": [
    {
     "name": "stdout",
     "output_type": "stream",
     "text": [
      "Accuracy com cross validation, 3: [74.99, 76.57]\n"
     ]
    }
   ],
   "source": [
    "from sklearn.model_selection import cross_validate\n",
    "\n",
    "SEED = 301\n",
    "np.random.seed(SEED)\n",
    "modelo = DecisionTreeClassifier(max_depth=2)\n",
    "resultados = cross_validate(modelo, X, y, cv=3, return_train_score=False)\n",
    "media = resultados['test_score'].mean()\n",
    "desvio_padrao = resultados['test_score'].std()\n",
    "print(f'Accuracy com cross validation, 3: [{(media - 2 * desvio_padrao) * 100:.2f}, {(media + 2 * desvio_padrao) * 100:.2f}]')"
   ]
  },
  {
   "cell_type": "code",
   "execution_count": 7,
   "id": "305e8975-00bf-4445-8061-ba44b1b7757a",
   "metadata": {},
   "outputs": [
    {
     "name": "stdout",
     "output_type": "stream",
     "text": [
      "Accuracy com cross validation, 10: [74.24, 77.32]\n"
     ]
    }
   ],
   "source": [
    "from sklearn.model_selection import cross_validate\n",
    "\n",
    "SEED = 301\n",
    "np.random.seed(SEED)\n",
    "modelo = DecisionTreeClassifier(max_depth=2)\n",
    "resultados = cross_validate(modelo, X, y, cv=10, return_train_score=False)\n",
    "media = resultados['test_score'].mean()\n",
    "desvio_padrao = resultados['test_score'].std()\n",
    "print(f'Accuracy com cross validation, 10: [{(media - 2 * desvio_padrao) * 100:.2f}, {(media + 2 * desvio_padrao) * 100:.2f}]')"
   ]
  },
  {
   "cell_type": "code",
   "execution_count": 8,
   "id": "0542c63c-2bc5-48c9-b561-8bdc843b9670",
   "metadata": {},
   "outputs": [
    {
     "name": "stdout",
     "output_type": "stream",
     "text": [
      "Accuracy com cross validation, 5: [75.21, 76.35]\n"
     ]
    }
   ],
   "source": [
    "from sklearn.model_selection import cross_validate\n",
    "\n",
    "SEED = 301\n",
    "np.random.seed(SEED)\n",
    "modelo = DecisionTreeClassifier(max_depth=2)\n",
    "resultados = cross_validate(modelo, X, y, cv=5, return_train_score=False)\n",
    "media = resultados['test_score'].mean()\n",
    "desvio_padrao = resultados['test_score'].std()\n",
    "print(f'Accuracy com cross validation, 5: [{(media - 2 * desvio_padrao) * 100:.2f}, {(media + 2 * desvio_padrao) * 100:.2f}]')"
   ]
  },
  {
   "cell_type": "markdown",
   "id": "8c424e30-2c83-488b-b33c-35cb39513099",
   "metadata": {
    "jp-MarkdownHeadingCollapsed": true
   },
   "source": [
    "## `K-Fold` com aleatorização"
   ]
  },
  {
   "cell_type": "code",
   "execution_count": 9,
   "id": "1e95a6e7-ed7b-492c-b38c-e8896589f0aa",
   "metadata": {},
   "outputs": [],
   "source": [
    "def imprime_resultados(resultados):\n",
    "    media = resultados['test_score'].mean()\n",
    "    desvio_padrao = resultados['test_score'].std()\n",
    "    print(f'Accuracy médio: [{media * 100:.2f}]')\n",
    "    print(f'Accuracy intervalo: [{(media - 2 * desvio_padrao) * 100:.2f}, {(media + 2 * desvio_padrao) * 100:.2f}]')\n",
    "    "
   ]
  },
  {
   "cell_type": "code",
   "execution_count": 10,
   "id": "f21c72f7-2fb2-4fee-886d-798ba6f5efdc",
   "metadata": {},
   "outputs": [
    {
     "name": "stdout",
     "output_type": "stream",
     "text": [
      "Accuracy médio: [75.78]\n",
      "Accuracy intervalo: [74.37, 77.19]\n"
     ]
    }
   ],
   "source": [
    "from sklearn.model_selection import cross_validate\n",
    "from sklearn.model_selection import KFold\n",
    "\n",
    "SEED = 301\n",
    "np.random.seed(SEED)\n",
    "\n",
    "cv = KFold(n_splits=10)\n",
    "\n",
    "modelo = DecisionTreeClassifier(max_depth=2)\n",
    "resultados = cross_validate(modelo, X, y, cv=cv, return_train_score=False)\n",
    "media = resultados['test_score'].mean()\n",
    "desvio_padrao = resultados['test_score'].std()\n",
    "imprime_resultados(resultados)"
   ]
  },
  {
   "cell_type": "code",
   "execution_count": 11,
   "id": "52a017d9-da30-4bd1-a1bf-5298107c931a",
   "metadata": {},
   "outputs": [
    {
     "name": "stdout",
     "output_type": "stream",
     "text": [
      "Accuracy médio: [75.78]\n",
      "Accuracy intervalo: [74.37, 77.19]\n"
     ]
    }
   ],
   "source": [
    "from sklearn.model_selection import cross_validate\n",
    "from sklearn.model_selection import KFold\n",
    "\n",
    "SEED = 301\n",
    "np.random.seed(SEED)\n",
    "\n",
    "cv = KFold(n_splits=10, shuffle=False)\n",
    "\n",
    "modelo = DecisionTreeClassifier(max_depth=2)\n",
    "resultados = cross_validate(modelo, X, y, cv=cv, return_train_score=False)\n",
    "imprime_resultados(resultados)"
   ]
  },
  {
   "cell_type": "code",
   "execution_count": 12,
   "id": "fbf69cc0-6d6f-4269-b6b3-aa03bbc6773d",
   "metadata": {},
   "outputs": [
    {
     "name": "stdout",
     "output_type": "stream",
     "text": [
      "Accuracy médio: [75.76]\n",
      "Accuracy intervalo: [73.26, 78.26]\n"
     ]
    }
   ],
   "source": [
    "from sklearn.model_selection import cross_validate\n",
    "from sklearn.model_selection import KFold\n",
    "\n",
    "SEED = 301\n",
    "np.random.seed(SEED)\n",
    "\n",
    "cv = KFold(n_splits=10, shuffle=True)\n",
    "\n",
    "modelo = DecisionTreeClassifier(max_depth=2)\n",
    "resultados = cross_validate(modelo, X, y, cv=cv, return_train_score=False)\n",
    "imprime_resultados(resultados)"
   ]
  },
  {
   "cell_type": "markdown",
   "id": "1dbfd641-8567-48a9-84fe-e9904bfed990",
   "metadata": {
    "jp-MarkdownHeadingCollapsed": true
   },
   "source": [
    "## Gerando `dados aleatórios` de modelo de carro para simulação de agrupamento ao usar nosso estimador"
   ]
  },
  {
   "cell_type": "code",
   "execution_count": 13,
   "id": "4f3fa7ae-f522-4bf6-b866-64ab57563891",
   "metadata": {},
   "outputs": [
    {
     "data": {
      "text/html": [
       "<div>\n",
       "<style scoped>\n",
       "    .dataframe tbody tr th:only-of-type {\n",
       "        vertical-align: middle;\n",
       "    }\n",
       "\n",
       "    .dataframe tbody tr th {\n",
       "        vertical-align: top;\n",
       "    }\n",
       "\n",
       "    .dataframe thead th {\n",
       "        text-align: right;\n",
       "    }\n",
       "</style>\n",
       "<table border=\"1\" class=\"dataframe\">\n",
       "  <thead>\n",
       "    <tr style=\"text-align: right;\">\n",
       "      <th></th>\n",
       "      <th>preco</th>\n",
       "      <th>vendido</th>\n",
       "      <th>idade_do_modelo</th>\n",
       "      <th>km_por_ano</th>\n",
       "      <th>modelo</th>\n",
       "    </tr>\n",
       "  </thead>\n",
       "  <tbody>\n",
       "    <tr>\n",
       "      <th>0</th>\n",
       "      <td>30941.02</td>\n",
       "      <td>1</td>\n",
       "      <td>18</td>\n",
       "      <td>35085.22134</td>\n",
       "      <td>18</td>\n",
       "    </tr>\n",
       "    <tr>\n",
       "      <th>1</th>\n",
       "      <td>40557.96</td>\n",
       "      <td>1</td>\n",
       "      <td>20</td>\n",
       "      <td>12622.05362</td>\n",
       "      <td>24</td>\n",
       "    </tr>\n",
       "    <tr>\n",
       "      <th>2</th>\n",
       "      <td>89627.50</td>\n",
       "      <td>0</td>\n",
       "      <td>12</td>\n",
       "      <td>11440.79806</td>\n",
       "      <td>14</td>\n",
       "    </tr>\n",
       "    <tr>\n",
       "      <th>3</th>\n",
       "      <td>95276.14</td>\n",
       "      <td>0</td>\n",
       "      <td>3</td>\n",
       "      <td>43167.32682</td>\n",
       "      <td>6</td>\n",
       "    </tr>\n",
       "    <tr>\n",
       "      <th>4</th>\n",
       "      <td>117384.68</td>\n",
       "      <td>1</td>\n",
       "      <td>4</td>\n",
       "      <td>12770.11290</td>\n",
       "      <td>5</td>\n",
       "    </tr>\n",
       "  </tbody>\n",
       "</table>\n",
       "</div>"
      ],
      "text/plain": [
       "       preco  vendido  idade_do_modelo   km_por_ano  modelo\n",
       "0   30941.02        1               18  35085.22134      18\n",
       "1   40557.96        1               20  12622.05362      24\n",
       "2   89627.50        0               12  11440.79806      14\n",
       "3   95276.14        0                3  43167.32682       6\n",
       "4  117384.68        1                4  12770.11290       5"
      ]
     },
     "execution_count": 13,
     "metadata": {},
     "output_type": "execute_result"
    }
   ],
   "source": [
    "np.random.seed(SEED)\n",
    "dados['modelo'] = dados.idade_do_modelo + np.random.randint(-2, 3, size=10000)\n",
    "dados.modelo = dados.modelo + abs(dados.modelo.min()) + 1\n",
    "dados.head()"
   ]
  },
  {
   "cell_type": "code",
   "execution_count": 14,
   "id": "1d891df6-9403-47e0-b6ca-61d2052fe3db",
   "metadata": {},
   "outputs": [
    {
     "data": {
      "text/plain": [
       "1"
      ]
     },
     "execution_count": 14,
     "metadata": {},
     "output_type": "execute_result"
    }
   ],
   "source": [
    "dados.modelo.min()"
   ]
  },
  {
   "cell_type": "code",
   "execution_count": 15,
   "id": "56c5a45a-068f-44c7-9ece-da690e4c23a6",
   "metadata": {},
   "outputs": [
    {
     "data": {
      "text/plain": [
       "array([18, 24, 14,  6,  5, 13, 20, 19, 15,  2, 17, 12, 11, 16,  3,  7, 21,\n",
       "       23, 10,  9, 22,  8,  4,  1], dtype=int64)"
      ]
     },
     "execution_count": 15,
     "metadata": {},
     "output_type": "execute_result"
    }
   ],
   "source": [
    "dados.modelo.unique()"
   ]
  },
  {
   "cell_type": "code",
   "execution_count": 16,
   "id": "83af5875-d37a-47ba-89e1-da755b10c88c",
   "metadata": {},
   "outputs": [
    {
     "data": {
      "text/plain": [
       "<bound method IndexOpsMixin.value_counts of 0       18\n",
       "1       24\n",
       "2       14\n",
       "3        6\n",
       "4        5\n",
       "        ..\n",
       "9995    14\n",
       "9996    17\n",
       "9997     6\n",
       "9998    11\n",
       "9999    23\n",
       "Name: modelo, Length: 10000, dtype: int64>"
      ]
     },
     "execution_count": 16,
     "metadata": {},
     "output_type": "execute_result"
    }
   ],
   "source": [
    "dados.modelo.value_counts"
   ]
  },
  {
   "cell_type": "markdown",
   "id": "549cda01-605e-40ea-beb7-b1c50793c947",
   "metadata": {},
   "source": [
    "## Testando validação cruzada com `GroupKFold`"
   ]
  },
  {
   "cell_type": "code",
   "execution_count": 17,
   "id": "2f83c367-42f8-4bcb-a484-2904d385144c",
   "metadata": {},
   "outputs": [
    {
     "name": "stdout",
     "output_type": "stream",
     "text": [
      "Accuracy médio: [75.80]\n",
      "Accuracy intervalo: [72.00, 79.60]\n"
     ]
    }
   ],
   "source": [
    "from sklearn.model_selection import cross_validate\n",
    "from sklearn.model_selection import GroupKFold\n",
    "\n",
    "SEED = 301\n",
    "np.random.seed(SEED)\n",
    "\n",
    "cv = GroupKFold(n_splits=10)\n",
    "\n",
    "modelo = DecisionTreeClassifier(max_depth=2)\n",
    "resultados = cross_validate(modelo, X, y, cv=cv, groups=dados.modelo, return_train_score=False)\n",
    "imprime_resultados(resultados)"
   ]
  },
  {
   "cell_type": "markdown",
   "id": "c5202649-0695-420d-8f53-47b58afc03d0",
   "metadata": {},
   "source": [
    "## `Cross Validation` com `StandardScaler`"
   ]
  },
  {
   "cell_type": "code",
   "execution_count": 18,
   "id": "d5a0bdc6-1c1c-48fb-92b9-53de488b6735",
   "metadata": {},
   "outputs": [
    {
     "name": "stdout",
     "output_type": "stream",
     "text": [
      "Acurácia do SVC: 77.48%\n"
     ]
    }
   ],
   "source": [
    "from sklearn.preprocessing import StandardScaler\n",
    "from sklearn.svm import SVC\n",
    "from sklearn.metrics import accuracy_score\n",
    "\n",
    "SEED = 301\n",
    "np.random.seed(SEED)\n",
    "\n",
    "scaler = StandardScaler()\n",
    "scaler.fit(treino_X)\n",
    "treino_X_escalado = scaler.transform(treino_X)\n",
    "teste_X_escalado = scaler.transform(teste_X)\n",
    "\n",
    "modelo = SVC()\n",
    "modelo.fit(treino_X_escalado, treino_y)\n",
    "previsoes = modelo.predict(teste_X_escalado)\n",
    "\n",
    "acuracia = accuracy_score(teste_y, previsoes) * 100\n",
    "print(f'Acurácia do SVC: {acuracia:.2f}%')"
   ]
  },
  {
   "cell_type": "code",
   "execution_count": 19,
   "id": "97c9640d-d370-40c0-87d9-13b0c9ba7b51",
   "metadata": {},
   "outputs": [],
   "source": [
    "scaler = StandardScaler()\n",
    "scaler.fit(treino_X)\n",
    "X_escalado = treino_X_escalado = scaler.transform(X)"
   ]
  },
  {
   "cell_type": "code",
   "execution_count": 20,
   "id": "a8c442d1-900f-4117-b831-c20e309f6952",
   "metadata": {},
   "outputs": [
    {
     "name": "stdout",
     "output_type": "stream",
     "text": [
      "Accuracy médio: [76.58]\n",
      "Accuracy intervalo: [73.25, 79.91]\n"
     ]
    }
   ],
   "source": [
    "from sklearn.model_selection import cross_validate\n",
    "from sklearn.model_selection import GroupKFold\n",
    "\n",
    "SEED = 301\n",
    "np.random.seed(SEED)\n",
    "\n",
    "cv = GroupKFold(n_splits=10)\n",
    "\n",
    "modelo = SVC()\n",
    "resultados = cross_validate(modelo, X_escalado, y, cv=cv, groups=dados.modelo, return_train_score=False)\n",
    "imprime_resultados(resultados)"
   ]
  },
  {
   "cell_type": "code",
   "execution_count": 21,
   "id": "6cc2d2ce-b8d1-4909-b876-fb6405ab7db8",
   "metadata": {},
   "outputs": [
    {
     "name": "stdout",
     "output_type": "stream",
     "text": [
      "Accuracy médio: [76.55]\n",
      "Accuracy intervalo: [73.22, 79.88]\n"
     ]
    }
   ],
   "source": [
    "from sklearn.pipeline import Pipeline\n",
    "\n",
    "SEED = 301\n",
    "np.random.seed(SEED)\n",
    "\n",
    "scaler = StandardScaler()\n",
    "modelo = SVC()\n",
    "\n",
    "pipeline = Pipeline([('transformação', scaler), ('estimador', modelo)])\n",
    "\n",
    "cv = GroupKFold(n_splits=10)\n",
    "\n",
    "resultados = cross_validate(pipeline, X, y, cv=cv, groups=dados.modelo, return_train_score=False)\n",
    "imprime_resultados(resultados)"
   ]
  }
 ],
 "metadata": {
  "kernelspec": {
   "display_name": "Python 3 (ipykernel)",
   "language": "python",
   "name": "python3"
  },
  "language_info": {
   "codemirror_mode": {
    "name": "ipython",
    "version": 3
   },
   "file_extension": ".py",
   "mimetype": "text/x-python",
   "name": "python",
   "nbconvert_exporter": "python",
   "pygments_lexer": "ipython3",
   "version": "3.11.7"
  }
 },
 "nbformat": 4,
 "nbformat_minor": 5
}
